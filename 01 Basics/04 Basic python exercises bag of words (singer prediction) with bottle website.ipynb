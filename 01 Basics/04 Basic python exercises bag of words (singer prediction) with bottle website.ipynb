{
 "cells": [
  {
   "cell_type": "markdown",
   "metadata": {},
   "source": [
    "## Exercise to try to know who wrote a song"
   ]
  },
  {
   "cell_type": "code",
   "execution_count": 1,
   "metadata": {
    "collapsed": true
   },
   "outputs": [],
   "source": [
    "\"\"\"\n",
    "Bag of Words:\n",
    "http://scikit-learn.org/stable/tutorial/text_analytics/working_with_text_data.html\n",
    "\"\"\"\n",
    "\n",
    "from sklearn.feature_extraction.text import CountVectorizer\n",
    "from sklearn.feature_extraction.text import TfidfTransformer\n",
    "from sklearn.naive_bayes import MultinomialNB\n",
    "from sklearn.pipeline import Pipeline\n",
    "from sklearn import model_selection\n",
    "from os import listdir\n",
    "from os.path import isfile, join\n",
    "import requests\n",
    "import re\n",
    "import numpy as np\n",
    "\n",
    "RATIO_TEST_DATA = 0.2"
   ]
  },
  {
   "cell_type": "markdown",
   "metadata": {
    "collapsed": true
   },
   "source": [
    "## Reading the file and cleaning the text"
   ]
  },
  {
   "cell_type": "code",
   "execution_count": null,
   "metadata": {
    "collapsed": true
   },
   "outputs": [],
   "source": [
    "'''save data in files'''\n",
    "html = {}\n",
    "lyrics = {}\n",
    "\n",
    "singers= ['eminem','madonna']\n",
    "for i in singers:\n",
    "    lyrics.update({i:[]})\n",
    "    files = listdir('songtexte/'+i)\n",
    "    \n",
    "    for file in files[:30]:\n",
    "        out = open('songtexte/'+i+'/'+file)\n",
    "        html.update({file:out.read()})\n",
    "            \n",
    "\n",
    "    ''' cleanind html'''\n",
    "    \n",
    "    for z in html:\n",
    "        pattern = '<!-- Usage of azlyrics.com .* agreement. Sorry about that. -->([\\w\\W]+)<!-- MxM banner -->'\n",
    "        text = re.findall(pattern,html[z])\n",
    "        if text:\n",
    "        \tlyrics[i].append(text[0].replace('<br>','').replace('</div>','').replace('<i>','').replace('</i>','')) \n",
    "\t\t\n"
   ]
  },
  {
   "cell_type": "markdown",
   "metadata": {
    "collapsed": true
   },
   "source": [
    "## split the data for each  singer, and create a Y variable of the same lenght"
   ]
  },
  {
   "cell_type": "code",
   "execution_count": null,
   "metadata": {
    "collapsed": true
   },
   "outputs": [],
   "source": [
    "''' start of the prediction'''\n",
    "\n",
    "\n",
    "eminem = lyrics['eminem']\n",
    "madonna = lyrics['madonna']\n",
    "\n",
    "print(\"Madonna: {} songs\".format(len(madonna)))\n",
    "print(\"Eminem : {} songs\".format(len(eminem)))\n",
    "\n",
    "X = madonna + eminem\n",
    "y = ['madonna'] * len(madonna) + ['eminem'] * len(eminem)\n",
    "\n",
    "\n",
    "# split into training and test set\n",
    "Xtrain, Xtest, ytrain, ytest = \\\n",
    "    model_selection.train_test_split(X, y, test_size=RATIO_TEST_DATA, random_state=42)\n"
   ]
  },
  {
   "cell_type": "markdown",
   "metadata": {
    "collapsed": true
   },
   "source": [
    "## definition and fitting of the model"
   ]
  },
  {
   "cell_type": "code",
   "execution_count": null,
   "metadata": {
    "collapsed": true
   },
   "outputs": [],
   "source": [
    "\n",
    "#\n",
    "# prediction pipeline\n",
    "#\n",
    "\n",
    "# smoothing parameter\n",
    "# try 1.0 and smaller in steps of factor 10\n",
    "ALPHA = 0.1\n",
    "\n",
    "# words must appear at least MIN_DF times\n",
    "MIN_DF=10\n",
    "\n",
    "model = Pipeline([\n",
    "        ('vectorizer', CountVectorizer(min_df=MIN_DF, ngram_range=(1, 1))),\n",
    "        ('tfidf_transformer', TfidfTransformer()),\n",
    "        ('bayes_model', MultinomialNB(alpha=ALPHA)),\n",
    "])\n",
    "\n",
    "# train the model\n",
    "model.fit(Xtrain, ytrain)\n"
   ]
  },
  {
   "cell_type": "markdown",
   "metadata": {
    "collapsed": true
   },
   "source": [
    "## Evaluation of the model"
   ]
  },
  {
   "cell_type": "code",
   "execution_count": null,
   "metadata": {
    "collapsed": true
   },
   "outputs": [],
   "source": [
    "vect = model.named_steps['vectorizer']\n",
    "nwoerter = len(vect.vocabulary_)\n",
    "print(\"\\nnumber of words: {}\".format(nwoerter))\n",
    "\n",
    "# evaluate the model quality\n",
    "print(\"\\naccuracy on training data: \", model.score(Xtrain, ytrain))\n",
    "print(\"accuracy on test data: \", model.score(Xtest, ytest))\n",
    "\n",
    "\n",
    "# 10-fold cross-validation\n",
    "print(\"\\nCross-validation:\")\n",
    "print(model_selection.cross_val_score(model, X, y, cv=10, scoring='accuracy'))\n",
    "\n",
    "\n",
    "# print distinct words\n",
    "names = np.array(model.named_steps['vectorizer'].get_feature_names())\n",
    "coef = model.named_steps['bayes_model'].coef_\n",
    "coef = coef.reshape((len(names),))\n",
    "\n",
    "# top words for Eminem (-coef for Madonna)\n",
    "indices = (coef).argsort()[:20].tolist()\n",
    "print(\"\\ndistinguishing words for Eminem:\")\n",
    "print(names[indices])\n"
   ]
  },
  {
   "cell_type": "markdown",
   "metadata": {
    "collapsed": true
   },
   "source": [
    "## test of a predictions"
   ]
  },
  {
   "cell_type": "code",
   "execution_count": null,
   "metadata": {
    "collapsed": true
   },
   "outputs": [],
   "source": [
    "\n",
    "#\n",
    "# Make a prediction\n",
    "#\n",
    "examples = [\n",
    "    \"we will dance and have a good time\", \n",
    "    \"my homies are nuts and listen to dumb records\",\n",
    "    \"like a dsfjklweh\"\n",
    "]\n",
    "\n",
    "predictions = model.predict(examples)\n",
    "\n",
    "for satz, vorh in zip(examples, predictions):\n",
    "    print(\"\\nThe phrase '{}' is by '{}'\".format(satz, vorh))\n",
    "\n"
   ]
  },
  {
   "cell_type": "markdown",
   "metadata": {
    "collapsed": true
   },
   "source": [
    "## Creation of a website with bottle to know who wrote each song"
   ]
  },
  {
   "cell_type": "code",
   "execution_count": null,
   "metadata": {
    "collapsed": true
   },
   "outputs": [],
   "source": [
    "'''bottle '''\n",
    "\n",
    "\n",
    "\n",
    "from bottle import default_app, route, run\n",
    "from bottle import get, post, request\n",
    "\n",
    "\n",
    "@route('/')\n",
    "def index():\n",
    "    \n",
    "    cast = \"<h3>dramatis personae:</h3>\"\n",
    "    for char in singers:\n",
    "        cast += '<li><a href=\"/{0}\">{0}</a></li>'.format(char)\n",
    "    return '<ul>{}</ul>'.format(cast)\n",
    "\n",
    "@route('/<char>')\n",
    "def enter_char(char):\n",
    "    links = ''\n",
    "    for i in lyrics[char]:\n",
    "        links +=  '''<p>{}'</p>'''.format(i,i)\n",
    "    html = '''<h1>Enter {}</h1>{}'''.format(char,links) \n",
    "    return html\n",
    "\n",
    "@get('/form')\n",
    "def form():\n",
    "    return '''\n",
    "        <form action=\"/form\" method=\"post\">\n",
    "            Lyrics: <input name=\"lyrics\" type=\"text\" />\n",
    "            <input value=\"Login\" type=\"submit\" />\n",
    "        </form>\n",
    "    '''\n",
    "\n",
    "@post('/form')\n",
    "def eval_form():\n",
    "    lyrics = request.forms.get('lyrics')\n",
    "    predictions = model.predict([lyrics])\n",
    "    return (\"\\nThe phrase '{}' is by '{}'\".format(lyrics, predictions[0]))\n",
    "    \n",
    "\n",
    "\n",
    "application = default_app()\n",
    "run(application, host='localhost', port=8080, reloader=True)"
   ]
  }
 ],
 "metadata": {
  "kernelspec": {
   "display_name": "Python 3",
   "language": "python",
   "name": "python3"
  },
  "language_info": {
   "codemirror_mode": {
    "name": "ipython",
    "version": 3
   },
   "file_extension": ".py",
   "mimetype": "text/x-python",
   "name": "python",
   "nbconvert_exporter": "python",
   "pygments_lexer": "ipython3",
   "version": "3.6.1"
  }
 },
 "nbformat": 4,
 "nbformat_minor": 2
}
